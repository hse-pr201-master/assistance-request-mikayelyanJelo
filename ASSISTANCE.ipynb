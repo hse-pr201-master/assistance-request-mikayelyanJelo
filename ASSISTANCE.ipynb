{
 "cells": [
  {
   "cell_type": "markdown",
   "metadata": {},
   "source": [
    "## Анализириуем баллы за тервер и матстат (до-онлайн эра vs онлайн эра)"
   ]
  },
  {
   "cell_type": "code",
   "execution_count": 1,
   "metadata": {},
   "outputs": [],
   "source": [
    "import pandas as pd\n",
    "import numpy as np\n",
    "import scipy.stats as sts"
   ]
  },
  {
   "cell_type": "code",
   "execution_count": 2,
   "metadata": {},
   "outputs": [],
   "source": [
    "data = pd.read_html('economics_probability_2019_20 - Google Диск.html')"
   ]
  },
  {
   "cell_type": "code",
   "execution_count": 3,
   "metadata": {},
   "outputs": [],
   "source": [
    "data = data[0][2:398]\n",
    "data = pd.DataFrame(data)"
   ]
  },
  {
   "cell_type": "code",
   "execution_count": 4,
   "metadata": {},
   "outputs": [
    {
     "data": {
      "text/html": [
       "<div>\n",
       "<style scoped>\n",
       "    .dataframe tbody tr th:only-of-type {\n",
       "        vertical-align: middle;\n",
       "    }\n",
       "\n",
       "    .dataframe tbody tr th {\n",
       "        vertical-align: top;\n",
       "    }\n",
       "\n",
       "    .dataframe thead th {\n",
       "        text-align: right;\n",
       "    }\n",
       "</style>\n",
       "<table border=\"1\" class=\"dataframe\">\n",
       "  <thead>\n",
       "    <tr style=\"text-align: right;\">\n",
       "      <th></th>\n",
       "      <th>Unnamed: 0</th>\n",
       "      <th>Unnamed: 1</th>\n",
       "      <th>Unnamed: 2</th>\n",
       "      <th>Unnamed: 3</th>\n",
       "      <th>Unnamed: 4</th>\n",
       "      <th>Unnamed: 5</th>\n",
       "      <th>Unnamed: 6</th>\n",
       "      <th>Unnamed: 7</th>\n",
       "      <th>Unnamed: 8</th>\n",
       "      <th>Unnamed: 9</th>\n",
       "      <th>...</th>\n",
       "      <th>Unnamed: 42</th>\n",
       "      <th>Unnamed: 43</th>\n",
       "      <th>Unnamed: 44</th>\n",
       "      <th>Unnamed: 45</th>\n",
       "      <th>Unnamed: 46</th>\n",
       "      <th>Unnamed: 47</th>\n",
       "      <th>Unnamed: 48</th>\n",
       "      <th>Unnamed: 49</th>\n",
       "      <th>Unnamed: 50</th>\n",
       "      <th>Unnamed: 51</th>\n",
       "    </tr>\n",
       "  </thead>\n",
       "  <tbody>\n",
       "    <tr>\n",
       "      <th>2</th>\n",
       "      <td>2.0</td>\n",
       "      <td>1</td>\n",
       "      <td>Алиев</td>\n",
       "      <td>Эльнур</td>\n",
       "      <td>Гашимович</td>\n",
       "      <td>БЭК181</td>\n",
       "      <td>NaN</td>\n",
       "      <td>NaN</td>\n",
       "      <td>egaliev_1@edu.hse.ru</td>\n",
       "      <td>0</td>\n",
       "      <td>...</td>\n",
       "      <td>5</td>\n",
       "      <td>NaN</td>\n",
       "      <td>18</td>\n",
       "      <td>68</td>\n",
       "      <td>7.6</td>\n",
       "      <td>10</td>\n",
       "      <td>NaN</td>\n",
       "      <td>10</td>\n",
       "      <td>NaN</td>\n",
       "      <td>5.90</td>\n",
       "    </tr>\n",
       "    <tr>\n",
       "      <th>3</th>\n",
       "      <td>3.0</td>\n",
       "      <td>2</td>\n",
       "      <td>Алтунина</td>\n",
       "      <td>Анастасия</td>\n",
       "      <td>Игоревна</td>\n",
       "      <td>БЭК181</td>\n",
       "      <td>NaN</td>\n",
       "      <td>NaN</td>\n",
       "      <td>aialtunina@edu.hse.ru</td>\n",
       "      <td>0</td>\n",
       "      <td>...</td>\n",
       "      <td>10</td>\n",
       "      <td>NaN</td>\n",
       "      <td>20</td>\n",
       "      <td>92</td>\n",
       "      <td>9.9</td>\n",
       "      <td>10</td>\n",
       "      <td>NaN</td>\n",
       "      <td>10</td>\n",
       "      <td>NaN</td>\n",
       "      <td>6.27</td>\n",
       "    </tr>\n",
       "    <tr>\n",
       "      <th>4</th>\n",
       "      <td>4.0</td>\n",
       "      <td>3</td>\n",
       "      <td>Байкалова</td>\n",
       "      <td>Дарья</td>\n",
       "      <td>Александровна</td>\n",
       "      <td>БЭК181</td>\n",
       "      <td>NaN</td>\n",
       "      <td>NaN</td>\n",
       "      <td>dabaykalova@edu.hse.ru</td>\n",
       "      <td>0</td>\n",
       "      <td>...</td>\n",
       "      <td>9</td>\n",
       "      <td>NaN</td>\n",
       "      <td>20</td>\n",
       "      <td>88</td>\n",
       "      <td>9.5</td>\n",
       "      <td>10</td>\n",
       "      <td>NaN</td>\n",
       "      <td>10</td>\n",
       "      <td>NaN</td>\n",
       "      <td>6.68</td>\n",
       "    </tr>\n",
       "    <tr>\n",
       "      <th>5</th>\n",
       "      <td>5.0</td>\n",
       "      <td>226</td>\n",
       "      <td>Антипина</td>\n",
       "      <td>Екатерина</td>\n",
       "      <td>Дмитриевна</td>\n",
       "      <td>БЭК184</td>\n",
       "      <td>NaN</td>\n",
       "      <td>NaN</td>\n",
       "      <td>edantipina@edu.hse.ru</td>\n",
       "      <td>0</td>\n",
       "      <td>...</td>\n",
       "      <td>4</td>\n",
       "      <td>NaN</td>\n",
       "      <td>12</td>\n",
       "      <td>55</td>\n",
       "      <td>6.2</td>\n",
       "      <td>10</td>\n",
       "      <td>NaN</td>\n",
       "      <td>9</td>\n",
       "      <td>NaN</td>\n",
       "      <td>4.84</td>\n",
       "    </tr>\n",
       "    <tr>\n",
       "      <th>6</th>\n",
       "      <td>6.0</td>\n",
       "      <td>5</td>\n",
       "      <td>Васьков</td>\n",
       "      <td>Алексей</td>\n",
       "      <td>Васильевич</td>\n",
       "      <td>БЭК181</td>\n",
       "      <td>NaN</td>\n",
       "      <td>NaN</td>\n",
       "      <td>avvaskov@edu.hse.ru</td>\n",
       "      <td>0</td>\n",
       "      <td>...</td>\n",
       "      <td>NaN</td>\n",
       "      <td>NaN</td>\n",
       "      <td>0</td>\n",
       "      <td>0</td>\n",
       "      <td>0.0</td>\n",
       "      <td>10</td>\n",
       "      <td>NaN</td>\n",
       "      <td>10</td>\n",
       "      <td>NaN</td>\n",
       "      <td>3.17</td>\n",
       "    </tr>\n",
       "  </tbody>\n",
       "</table>\n",
       "<p>5 rows × 52 columns</p>\n",
       "</div>"
      ],
      "text/plain": [
       "   Unnamed: 0 Unnamed: 1 Unnamed: 2 Unnamed: 3     Unnamed: 4 Unnamed: 5  \\\n",
       "2         2.0          1      Алиев     Эльнур      Гашимович     БЭК181   \n",
       "3         3.0          2   Алтунина  Анастасия       Игоревна     БЭК181   \n",
       "4         4.0          3  Байкалова      Дарья  Александровна     БЭК181   \n",
       "5         5.0        226   Антипина  Екатерина     Дмитриевна     БЭК184   \n",
       "6         6.0          5    Васьков    Алексей     Васильевич     БЭК181   \n",
       "\n",
       "   Unnamed: 6 Unnamed: 7              Unnamed: 8 Unnamed: 9  ... Unnamed: 42  \\\n",
       "2         NaN        NaN    egaliev_1@edu.hse.ru          0  ...           5   \n",
       "3         NaN        NaN   aialtunina@edu.hse.ru          0  ...          10   \n",
       "4         NaN        NaN  dabaykalova@edu.hse.ru          0  ...           9   \n",
       "5         NaN        NaN   edantipina@edu.hse.ru          0  ...           4   \n",
       "6         NaN        NaN     avvaskov@edu.hse.ru          0  ...         NaN   \n",
       "\n",
       "  Unnamed: 43 Unnamed: 44 Unnamed: 45 Unnamed: 46 Unnamed: 47 Unnamed: 48  \\\n",
       "2         NaN          18          68         7.6          10         NaN   \n",
       "3         NaN          20          92         9.9          10         NaN   \n",
       "4         NaN          20          88         9.5          10         NaN   \n",
       "5         NaN          12          55         6.2          10         NaN   \n",
       "6         NaN           0           0         0.0          10         NaN   \n",
       "\n",
       "  Unnamed: 49 Unnamed: 50 Unnamed: 51  \n",
       "2          10         NaN        5.90  \n",
       "3          10         NaN        6.27  \n",
       "4          10         NaN        6.68  \n",
       "5           9         NaN        4.84  \n",
       "6          10         NaN        3.17  \n",
       "\n",
       "[5 rows x 52 columns]"
      ]
     },
     "execution_count": 4,
     "metadata": {},
     "output_type": "execute_result"
    }
   ],
   "source": [
    "data.head()"
   ]
  },
  {
   "cell_type": "code",
   "execution_count": 5,
   "metadata": {},
   "outputs": [
    {
     "data": {
      "text/plain": [
       "(52.0505076142132, 835.5919921281146)"
      ]
     },
     "execution_count": 5,
     "metadata": {},
     "output_type": "execute_result"
    }
   ],
   "source": [
    "marks_1 = [] #kr1\n",
    "for i in data['Unnamed: 10'].dropna():\n",
    "    marks_1.append(float(i))\n",
    "marks_1 = np.array(marks_1)\n",
    "marks_1.mean(), marks_1.var()"
   ]
  },
  {
   "cell_type": "code",
   "execution_count": 6,
   "metadata": {},
   "outputs": [
    {
     "data": {
      "text/plain": [
       "(37.611111111111114, 654.7212401795734)"
      ]
     },
     "execution_count": 6,
     "metadata": {},
     "output_type": "execute_result"
    }
   ],
   "source": [
    "marks_2 = [] #kr2\n",
    "for i in data['Unnamed: 11'].dropna():\n",
    "    marks_2.append(float(i))\n",
    "marks_2 = np.array(marks_2)\n",
    "marks_2.mean(), marks_2.var()"
   ]
  },
  {
   "cell_type": "code",
   "execution_count": 7,
   "metadata": {},
   "outputs": [
    {
     "data": {
      "text/plain": [
       "(44.72829949238579, 494.33261918949216)"
      ]
     },
     "execution_count": 7,
     "metadata": {},
     "output_type": "execute_result"
    }
   ],
   "source": [
    "terver = (marks_1+marks_2[2:])/2 #среднее за кр по терверу\n",
    "terver.mean(), terver.var()"
   ]
  },
  {
   "cell_type": "code",
   "execution_count": 8,
   "metadata": {},
   "outputs": [
    {
     "data": {
      "text/plain": [
       "(55.87786259541985, 688.1886447953693)"
      ]
     },
     "execution_count": 8,
     "metadata": {},
     "output_type": "execute_result"
    }
   ],
   "source": [
    "marks_3 = [] #kr3\n",
    "for i in data['Unnamed: 32'].dropna():\n",
    "    marks_3.append(float(i))\n",
    "marks_3 = np.array(marks_3)*10\n",
    "marks_3.mean(), marks_3.var()"
   ]
  },
  {
   "cell_type": "code",
   "execution_count": 9,
   "metadata": {},
   "outputs": [
    {
     "data": {
      "text/plain": [
       "(51.26208651399491, 622.900776308037)"
      ]
     },
     "execution_count": 9,
     "metadata": {},
     "output_type": "execute_result"
    }
   ],
   "source": [
    "marks_4 = [] #kr4\n",
    "for i in data['Unnamed: 46'].dropna():\n",
    "    marks_4.append(float(i))\n",
    "marks_4 = np.array(marks_4)*10\n",
    "marks_4.mean(), marks_4.var()"
   ]
  },
  {
   "cell_type": "code",
   "execution_count": 10,
   "metadata": {},
   "outputs": [
    {
     "data": {
      "text/plain": [
       "(53.56997455470738, 598.8621519077495)"
      ]
     },
     "execution_count": 10,
     "metadata": {},
     "output_type": "execute_result"
    }
   ],
   "source": [
    "matstat = (marks_3+marks_4)/2 #среднее за кр по матстату\n",
    "matstat.mean(), matstat.var()"
   ]
  },
  {
   "cell_type": "markdown",
   "metadata": {},
   "source": [
    "### Найдем вероятность отклонения оценки по терверу на величину бОльшую, чем разница средних оценок за два предмета\n",
    "Примем среднюю оценку по терверу за матожидание. Используя нормальную аппроксимацию можно вычислить данную вероятность. Предполагаем, что тервер и матстат одинакового уровня сложности. \n",
    "\n",
    "p(x - terver.mean() > matstat.mean() - terver.mean()) = ?"
   ]
  },
  {
   "cell_type": "code",
   "execution_count": 11,
   "metadata": {},
   "outputs": [
    {
     "data": {
      "text/plain": [
       "0.34543602277303"
      ]
     },
     "execution_count": 11,
     "metadata": {},
     "output_type": "execute_result"
    }
   ],
   "source": [
    "probability = 1 - sts.norm.cdf((matstat.mean() - terver.mean()) / terver.std())\n",
    "probability"
   ]
  },
  {
   "cell_type": "markdown",
   "metadata": {},
   "source": [
    "##### То есть вероятность отклонения оценки за тервер на величину отклонения среднего за матстат от среднего за тервер равна 0.34543602277303. Вероятность на порядок ниже 0.5 и, учитывая одинаковый уровень сложности предметов, можно сделать вывод, что дистанционка пошла на пользу ;)"
   ]
  },
  {
   "cell_type": "markdown",
   "metadata": {},
   "source": [
    "### Построим доверительный интервал для разности матожиданий оценок за тервер и матстат"
   ]
  },
  {
   "cell_type": "code",
   "execution_count": 12,
   "metadata": {},
   "outputs": [
    {
     "name": "stdout",
     "output_type": "stream",
     "text": [
      "Доверительный интервал для разности матожиданий с уровнем доверия 0.95: (-12.101896780827218, -5.581453343815966)\n"
     ]
    }
   ],
   "source": [
    "average_terver = terver.mean()\n",
    "average_matstat = matstat.mean()\n",
    "alpha = 0.95\n",
    "sigma_terver =terver.var()\n",
    "sigma_matstat = matstat.var()\n",
    "n_x = data['Unnamed: 10'].dropna().shape[0]\n",
    "n_y = data['Unnamed: 11'].dropna().shape[0]\n",
    "left = average_terver - average_matstat - sts.norm.ppf((1+alpha)/2)*(sigma_terver / n_x + sigma_matstat / n_y)**0.5\n",
    "right = average_terver - average_matstat + sts.norm.ppf((1+alpha)/2)*(sigma_terver / n_x + sigma_matstat/ n_y)**0.5\n",
    "print('Доверительный интервал для разности матожиданий с уровнем доверия 0.95:', (left, right))"
   ]
  },
  {
   "cell_type": "markdown",
   "metadata": {},
   "source": [
    "### Проверим гипотезу о равенстве дисперсий оценок за тервер и матстат\n",
    "\n",
    "H0: sigma_2_terver = sigma_2_matstat\n",
    "\n",
    "H1: sigma_2_terver $\\neq$ sigma_2_matstat"
   ]
  },
  {
   "cell_type": "code",
   "execution_count": 13,
   "metadata": {},
   "outputs": [
    {
     "name": "stdout",
     "output_type": "stream",
     "text": [
      "H0 не отвергается\n",
      "test =  1.2114558672855618 Зона неотвержения гипотезы H0 = (0.8204454136829143, 1.2188194006595552)\n"
     ]
    }
   ],
   "source": [
    "alpha = 0.05\n",
    "sigma_2_terver = terver.var()\n",
    "sigma_2_matstat = matstat.var()\n",
    "test = sigma_2_matstat / sigma_2_terver\n",
    "zona_neotverzheniya = (sts.f.ppf(alpha/2, matstat.shape[0], terver.shape[0]), sts.f.ppf(1-alpha/2, matstat.shape[0], terver.shape[0]))\n",
    "if zona_neotverzheniya[1] > test > zona_neotverzheniya[0]:\n",
    "    print('H0 не отвергается')\n",
    "else:\n",
    "    print('H0 отвергается')\n",
    "print('test = ', test, 'Зона неотвержения гипотезы H0 =', zona_neotverzheniya)"
   ]
  },
  {
   "cell_type": "markdown",
   "metadata": {},
   "source": [
    "### Критерий Пирсона\n",
    "\n",
    "Проверяем гипотезу о том, что вероятности получить тот или иной балл по матстату одинаковы. Уровень значимости - 0.01"
   ]
  },
  {
   "cell_type": "code",
   "execution_count": 14,
   "metadata": {},
   "outputs": [
    {
     "data": {
      "text/plain": [
       "array([33,  9,  8,  8,  7,  7,  6,  6,  6,  6,  6,  5,  5,  5,  5,  5,  5,\n",
       "        5,  5,  5,  4,  4,  4,  4,  4,  4,  4,  4,  4,  4,  4,  4,  4,  4,\n",
       "        4,  4,  4,  4,  4,  3,  3,  3,  3,  3,  3,  3,  3,  3,  3,  3,  3,\n",
       "        3,  3,  3,  3,  3,  2,  2,  2,  2,  2,  2,  2,  2,  2,  2,  2,  2,\n",
       "        2,  2,  2,  2,  2,  2,  2,  2,  2,  2,  2,  2,  2,  2,  2,  2,  2,\n",
       "        2,  2,  2,  2,  2,  1,  1,  1,  1,  1,  1,  1,  1,  1,  1,  1,  1,\n",
       "        1,  1,  1,  1,  1,  1,  1,  1,  1,  1,  1,  1,  1,  1,  1,  1,  1,\n",
       "        1,  1,  1,  1,  1,  1,  1,  1,  1,  1,  1,  1,  1,  1,  1,  1,  1,\n",
       "        1,  1,  1,  1,  1])"
      ]
     },
     "execution_count": 14,
     "metadata": {},
     "output_type": "execute_result"
    }
   ],
   "source": [
    "stat = pd.Index(matstat)\n",
    "frequency = []\n",
    "for i in stat.value_counts():\n",
    "    frequency.append(i)\n",
    "frequency = np.array(frequency)\n",
    "frequency #вектор количества студентов, получивших определенный балл"
   ]
  },
  {
   "cell_type": "code",
   "execution_count": 15,
   "metadata": {},
   "outputs": [],
   "source": [
    "s = frequency.shape[0]\n",
    "probabilities = np.array([1/s]*s) #вектор одинаковых вероятностей размерностью с количеством различных значений (параметр s)"
   ]
  },
  {
   "cell_type": "code",
   "execution_count": 18,
   "metadata": {},
   "outputs": [
    {
     "name": "stdout",
     "output_type": "stream",
     "text": [
      "Гипотеза отвергается\n",
      "Значение критерия Пирсона = 1800.0\n",
      "Критическая область: z_alpha >  181.84033712682086\n"
     ]
    }
   ],
   "source": [
    "prob = probabilities\n",
    "values = frequency\n",
    "n = frequency.shape[0]\n",
    "znachenie_kriteria_pirsona = 0\n",
    "for i in range(len(values)):\n",
    "    znachenie_kriteria_pirsona += (values[i]-n*prob[i])**2 / (n*prob[i])\n",
    "alpha = 0.01\n",
    "k = 0\n",
    "if sts.chi2.ppf(1-alpha, df = s-k-1) < znachenie_kriteria_pirsona:\n",
    "    print('Гипотеза отвергается')\n",
    "else:\n",
    "    print('Гипотеза не отвергается')\n",
    "print('Значение критерия Пирсона =', znachenie_kriteria_pirsona)\n",
    "print('Критическая область: z_alpha > ',(sts.chi2.ppf(1-alpha, df = s-k-1)))"
   ]
  }
 ],
 "metadata": {
  "kernelspec": {
   "display_name": "Python 3",
   "language": "python",
   "name": "python3"
  },
  "language_info": {
   "codemirror_mode": {
    "name": "ipython",
    "version": 3
   },
   "file_extension": ".py",
   "mimetype": "text/x-python",
   "name": "python",
   "nbconvert_exporter": "python",
   "pygments_lexer": "ipython3",
   "version": "3.7.6"
  }
 },
 "nbformat": 4,
 "nbformat_minor": 4
}
